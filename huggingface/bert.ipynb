{
 "cells": [
  {
   "cell_type": "code",
   "execution_count": 2,
   "metadata": {},
   "outputs": [
    {
     "name": "stderr",
     "output_type": "stream",
     "text": [
      "/home/nguyenan1/.local/lib/python3.10/site-packages/tqdm/auto.py:21: TqdmWarning: IProgress not found. Please update jupyter and ipywidgets. See https://ipywidgets.readthedocs.io/en/stable/user_install.html\n",
      "  from .autonotebook import tqdm as notebook_tqdm\n"
     ]
    }
   ],
   "source": [
    "import json\n",
    "import math\n",
    "import torch\n",
    "import torch.nn.functional as F\n",
    "import torch.optim as optim\n",
    "from datasets import load_from_disk\n",
    "from datasets import load_from_disk\n",
    "from transformers import (\n",
    "    PreTrainedTokenizerFast,\n",
    "    DataCollatorForLanguageModeling,\n",
    "    BertConfig,\n",
    "    BertForMaskedLM,\n",
    "    Trainer,\n",
    "    TrainingArguments,\n",
    "    GPT2Config,\n",
    "    GPT2LMHeadModel,\n",
    "    MobileBertConfig,\n",
    "    MobileBertForMaskedLM,\n",
    ")\n",
    "from torch.optim import AdamW, SGD\n",
    "from optimizers import Lion, Sophia, SignSGD "
   ]
  },
  {
   "cell_type": "code",
   "execution_count": 4,
   "metadata": {},
   "outputs": [],
   "source": [
    "def load_dataset(path, name, model):\n",
    "    with open(f\"./save/{path}/{name}/tokenizer/{model}/special_tokens_map.json\") as f:\n",
    "        special_tokens = json.load(f)\n",
    "        print(\"Loaded \", f)\n",
    "\n",
    "        tokenized_datasets = load_from_disk(f\"./save/{path}/{name}/datasets/{model}\")\n",
    "        tokenizer = PreTrainedTokenizerFast(\n",
    "            # TODO: make sure these are set for MASKED models\n",
    "            # https://huggingface.co/docs/transformers/v4.30.0/en/main_classes/tokenizer#transformers.PreTrainedTokenizerFast\n",
    "            sep_token=special_tokens[\"sep_token\"],\n",
    "            cls_token=special_tokens[\"cls_token\"],\n",
    "            mask_token=special_tokens[\"mask_token\"],\n",
    "            unk_token=special_tokens[\"unk_token\"],\n",
    "            pad_token=special_tokens[\"pad_token\"],\n",
    "            tokenizer_file=f\"./save/{path}/{name}/tokenizer/{model}/tokenizer.json\",\n",
    "        )\n",
    "        print(\n",
    "            tokenizer.sep_token,\n",
    "            tokenizer.cls_token,\n",
    "            tokenizer.mask_token,\n",
    "            tokenizer.unk_token,\n",
    "            tokenizer.pad_token,\n",
    "        )\n",
    "        return tokenized_datasets, tokenizer"
   ]
  },
  {
   "cell_type": "code",
   "execution_count": 5,
   "metadata": {},
   "outputs": [],
   "source": [
    "def compute_metric_with_tokenizer(tokenizer):\n",
    "    def compute_custom_metric(pred):\n",
    "        logits = torch.from_numpy(pred.predictions)\n",
    "        labels = torch.from_numpy(pred.label_ids)\n",
    "        loss = F.cross_entropy(logits.view(-1, tokenizer.vocab_size), labels.view(-1))\n",
    "        return {\"perplexity\": math.exp(loss), \"calculated_loss\": loss}\n",
    "    return compute_custom_metric"
   ]
  },
  {
   "cell_type": "code",
   "execution_count": 6,
   "metadata": {},
   "outputs": [],
   "source": [
    "def set_optimizer(model , i):\n",
    "    match i:\n",
    "        case 1:\n",
    "            optimizer = SignSGD(model.parameters())\n",
    "        case 2:\n",
    "            optimizer = Lion(model.parameters())\n",
    "        case 3:\n",
    "            optimizer = optim.AdamW(model.parameters())\n",
    "        case 4:\n",
    "            optimizer = Sophia(model.parameters())\n",
    "        case _:\n",
    "            print(\"Invalid optimizer\")        \n",
    "    return optimizer\n"
   ]
  },
  {
   "cell_type": "code",
   "execution_count": 7,
   "metadata": {},
   "outputs": [],
   "source": [
    "import gc\n",
    "\n",
    "def train(tokenizer, tokenized_datasets, optimizer, model, data_collator, training_args):\n",
    "    compute_custom_metric = compute_metric_with_tokenizer(tokenizer)\n",
    "    torch.cuda.empty_cache()\n",
    "    gc.collect()\n",
    "    trainer = Trainer(\n",
    "        model=model,\n",
    "        args=training_args,\n",
    "        train_dataset=tokenized_datasets[\"train\"],\n",
    "        eval_dataset=tokenized_datasets[\"validation\"],\n",
    "        data_collator=data_collator,\n",
    "        tokenizer=tokenizer,\n",
    "        compute_metrics=compute_custom_metric,\n",
    "        optimizers=(optimizer, None),\n",
    "    )\n",
    "\n",
    "    trainer.train()\n",
    "    trainer.save_model(f\"./bert/output/{optimizer.__class__.__name__}\")\n",
    "    # evaluate the model\n",
    "    eval_results = trainer.evaluate()\n",
    "    #print eval results + name of optimizer\n",
    "    print(f\"{optimizer.__class__.__name__} results: {eval_results}\")"
   ]
  },
  {
   "cell_type": "code",
   "execution_count": 8,
   "metadata": {},
   "outputs": [
    {
     "name": "stdout",
     "output_type": "stream",
     "text": [
      "Loaded  <_io.TextIOWrapper name='./save/wikitext/wikitext-103-raw-v1/tokenizer/special_tokens_map.json' mode='r' encoding='UTF-8'>\n",
      "[SEP] [CLS] [MASK] [UNK] [PAD]\n"
     ]
    }
   ],
   "source": [
    "#get the configs\n",
    "# Import training configs\n",
    "from huggingface.configs import SEED, TRAINING_CONFIGS\n",
    "\n",
    "config = TRAINING_CONFIGS[\"bert-wikitext\"]\n",
    "tokenizer_name = config[\"tokenizer_name\"]\n",
    "path = config[\"dataset_path\"]\n",
    "name = config[\"dataset_name\"]\n",
    "model = config[\"model\"]\n",
    "\n",
    "# load the dataset\n",
    "tokenized_datasets, tokenizer = load_dataset(path, name, model)\n",
    "\n",
    "training_args = TrainingArguments(\n",
    "        output_dir=f\"./{model}/output/\",\n",
    "        evaluation_strategy=\"epoch\",\n",
    "        # learning_rate=1e-5,\n",
    "        per_device_train_batch_size=1,\n",
    "        per_device_eval_batch_size=1,\n",
    "        # warmup_steps=500,\n",
    "        # weight_decay=0.01,\n",
    "        logging_dir=f\"./{model}/logs/\",\n",
    "        seed=SEED,\n",
    "        bf16=True,\n",
    "        eval_accumulation_steps=50,\n",
    "        gradient_accumulation_steps=16,\n",
    "    )\n",
    "\n",
    "\n"
   ]
  },
  {
   "cell_type": "code",
   "execution_count": 9,
   "metadata": {},
   "outputs": [],
   "source": [
    "import os\n",
    "os.environ[\"PYTORCH_CUDA_ALLOC_CONF\"] = \"max_split_size_mb:4\""
   ]
  },
  {
   "cell_type": "code",
   "execution_count": null,
   "metadata": {},
   "outputs": [],
   "source": [
    "# train the model\n",
    "optimizers = [\n",
    "    lambda params: SignSGD(params),\n",
    "    lambda params: Sophia(params),\n",
    "    lambda params: AdamW(params),\n",
    "    lambda params: Lion(params),\n",
    "    lambda params: SGD(params),\n",
    "]\n",
    "\n",
    "#train the model\n",
    "for optimizer_func in optimizers:\n",
    "    # load the model\n",
    "    device = \"cuda:0\" if torch.cuda.is_available() else \"cpu\"\n",
    "    config = BertConfig(vocab_size=len(tokenizer), #Tiny BERT config\n",
    "                        hidden_size=128,\n",
    "                        num_hidden_layers=2,\n",
    "                        num_attention_heads=12,\n",
    "                        intermediate_size=3072)\n",
    "    model = BertForMaskedLM(config)  # model.resize_token_embeddings(len(tokenizer))\n",
    "    model = model.to(device)\n",
    "    data_collator = DataCollatorForLanguageModeling(tokenizer)\n",
    "    optimizer = optimizer_func(model.parameters())\n",
    "    train(tokenizer, tokenized_datasets, optimizer, model, data_collator, training_args)"
   ]
  }
 ],
 "metadata": {
  "kernelspec": {
   "display_name": "Python 3 (ipykernel)",
   "language": "python",
   "name": "python3"
  },
  "language_info": {
   "codemirror_mode": {
    "name": "ipython",
    "version": 3
   },
   "file_extension": ".py",
   "mimetype": "text/x-python",
   "name": "python",
   "nbconvert_exporter": "python",
   "pygments_lexer": "ipython3",
   "version": "3.10.6"
  }
 },
 "nbformat": 4,
 "nbformat_minor": 2
}
